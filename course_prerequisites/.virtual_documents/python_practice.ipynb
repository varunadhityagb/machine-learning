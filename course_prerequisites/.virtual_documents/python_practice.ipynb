


import numpy as np
import pandas as pd
import matplotlib.pyplot as plt






V1 = np.random.rand(100)
V1_sorted = np.sort(V1)
print("Sorted Vector: ", V1_sorted)



scaled_V1 = V1 * 3
print("Scaled Vector: ", scaled_V1)



mean_V1 = np.mean(V1)
std_V1 = np.std(V1)
print("Mean of V1: ", mean_V1)
print("Std. deviation of V1: ", std_V1)






matrix = np.zeros((4,3))
for i in range(4):
    for j in range(3):
        matrix[i,j] = np.random.rand()

array_1D = matrix.flatten()
print("Array: ", array_1D)






S1 = "I am a great learner. I am going to have an awesome life."
count_Am = S1.count("Am")
print("Am occurance count = ", count_Am)






S2 = "I work hard and shall be rewarded well"
S3 = S1+S2
print("String: ", S3)






array = S3.replace(".", " ").split()
print(array)
print("Array length: ",len(array))






filter1_array = [word for word in array if word not in ["I", "Am", "to", "and"]]
filter2_array = [word for word in filter1_array if len(word) < 6]
print(filter2_array)
print("Length of array: ",len(filter2_array))






date = "01-JUN-2021"
day, month, year = date.split("-")
month_value = {"JAN":1, "FEB":2, "MAR":3, "APR":4, "MAY":5, "JUN":6,
               "JUL":7, "AUG":8, "SEP":9, "OCT":10, "NOV":11, "DEC":12}
print("Day: ", day)
print("Month: ", month_value[month])
print("Year: ", year)






data = pd.read_excel("city-state-pin.xlsx")
print(data)
print()
data["City-State"] = data["City"] + "," + data["State"]
data.to_excel("city-state-pin-citystate.xlsx")
print(data)






V1_sorted = np.sort(V1)
plt.figure(figsize=(8,8))
plt.plot(V1_sorted)
plt.show()



plt.figure(figsize=(8,8))
plt.plot(V1_sorted, color="red")
plt.show()






V2 = np.square(V1_sorted)
print("Vector V2 (square of V1): ")
print(V2)
plt.figure(figsize=(8,8))
plt.plot(V1_sorted, label="V1", color="red")
plt.plot(V2, label="V2", color="blue")
plt.legend()
plt.show()






import numpy as np
print(np)

