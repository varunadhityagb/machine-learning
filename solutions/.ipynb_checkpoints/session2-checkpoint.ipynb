{
 "cells": [
  {
   "cell_type": "markdown",
   "id": "8da4b4e5-3663-4b64-aa69-576571ed8e30",
   "metadata": {},
   "source": [
    "# **Machine Leaning**\n",
    "## *Lab Session 2*"
   ]
  },
  {
   "cell_type": "code",
   "execution_count": 1,
   "id": "f51d38b9-4c51-404f-b68b-096635a466e4",
   "metadata": {},
   "outputs": [],
   "source": [
    "import pandas as pd\n",
    "import numpy as np\n",
    "import statistics\n",
    "import seaborn as sns\n",
    "import matplotlib.pyplot as plt"
   ]
  },
  {
   "cell_type": "markdown",
   "id": "a988928c-e9dc-45e3-b0cf-cceddf75b3dc",
   "metadata": {},
   "source": [
    "#### A1. Please refer to the “Purchase Data” worksheet of Lab Session Data.xlsx. Please load the data and segregate them into 2 matrices A & C (following the nomenclature of AX = C). Do the following activities.\n",
    "\n",
    "1. What is the dimensionality of the vector space for this data?\n",
    "2. How many vectors exist in this vector space?\n",
    "3. What is the rank of Matrix A?\n",
    "4. Using Pseudo-Inverse find the cost of each product available for sale.\n",
    "   "
   ]
  },
  {
   "cell_type": "code",
   "execution_count": 54,
   "id": "fccbbead-49f4-4cff-81f4-954d4eb53139",
   "metadata": {},
   "outputs": [
    {
     "data": {
      "text/html": [
       "<div>\n",
       "<style scoped>\n",
       "    .dataframe tbody tr th:only-of-type {\n",
       "        vertical-align: middle;\n",
       "    }\n",
       "\n",
       "    .dataframe tbody tr th {\n",
       "        vertical-align: top;\n",
       "    }\n",
       "\n",
       "    .dataframe thead th {\n",
       "        text-align: right;\n",
       "    }\n",
       "</style>\n",
       "<table border=\"1\" class=\"dataframe\">\n",
       "  <thead>\n",
       "    <tr style=\"text-align: right;\">\n",
       "      <th></th>\n",
       "      <th>Customer</th>\n",
       "      <th>Candies (#)</th>\n",
       "      <th>Mangoes (Kg)</th>\n",
       "      <th>Milk Packets (#)</th>\n",
       "      <th>Payment (Rs)</th>\n",
       "    </tr>\n",
       "  </thead>\n",
       "  <tbody>\n",
       "    <tr>\n",
       "      <th>0</th>\n",
       "      <td>C_1</td>\n",
       "      <td>20</td>\n",
       "      <td>6</td>\n",
       "      <td>2</td>\n",
       "      <td>386</td>\n",
       "    </tr>\n",
       "    <tr>\n",
       "      <th>1</th>\n",
       "      <td>C_2</td>\n",
       "      <td>16</td>\n",
       "      <td>3</td>\n",
       "      <td>6</td>\n",
       "      <td>289</td>\n",
       "    </tr>\n",
       "    <tr>\n",
       "      <th>2</th>\n",
       "      <td>C_3</td>\n",
       "      <td>27</td>\n",
       "      <td>6</td>\n",
       "      <td>2</td>\n",
       "      <td>393</td>\n",
       "    </tr>\n",
       "    <tr>\n",
       "      <th>3</th>\n",
       "      <td>C_4</td>\n",
       "      <td>19</td>\n",
       "      <td>1</td>\n",
       "      <td>2</td>\n",
       "      <td>110</td>\n",
       "    </tr>\n",
       "    <tr>\n",
       "      <th>4</th>\n",
       "      <td>C_5</td>\n",
       "      <td>24</td>\n",
       "      <td>4</td>\n",
       "      <td>2</td>\n",
       "      <td>280</td>\n",
       "    </tr>\n",
       "    <tr>\n",
       "      <th>5</th>\n",
       "      <td>C_6</td>\n",
       "      <td>22</td>\n",
       "      <td>1</td>\n",
       "      <td>5</td>\n",
       "      <td>167</td>\n",
       "    </tr>\n",
       "    <tr>\n",
       "      <th>6</th>\n",
       "      <td>C_7</td>\n",
       "      <td>15</td>\n",
       "      <td>4</td>\n",
       "      <td>2</td>\n",
       "      <td>271</td>\n",
       "    </tr>\n",
       "    <tr>\n",
       "      <th>7</th>\n",
       "      <td>C_8</td>\n",
       "      <td>18</td>\n",
       "      <td>4</td>\n",
       "      <td>2</td>\n",
       "      <td>274</td>\n",
       "    </tr>\n",
       "    <tr>\n",
       "      <th>8</th>\n",
       "      <td>C_9</td>\n",
       "      <td>21</td>\n",
       "      <td>1</td>\n",
       "      <td>4</td>\n",
       "      <td>148</td>\n",
       "    </tr>\n",
       "    <tr>\n",
       "      <th>9</th>\n",
       "      <td>C_10</td>\n",
       "      <td>16</td>\n",
       "      <td>2</td>\n",
       "      <td>4</td>\n",
       "      <td>198</td>\n",
       "    </tr>\n",
       "  </tbody>\n",
       "</table>\n",
       "</div>"
      ],
      "text/plain": [
       "  Customer  Candies (#)  Mangoes (Kg)  Milk Packets (#)  Payment (Rs)\n",
       "0      C_1           20             6                 2           386\n",
       "1      C_2           16             3                 6           289\n",
       "2      C_3           27             6                 2           393\n",
       "3      C_4           19             1                 2           110\n",
       "4      C_5           24             4                 2           280\n",
       "5      C_6           22             1                 5           167\n",
       "6      C_7           15             4                 2           271\n",
       "7      C_8           18             4                 2           274\n",
       "8      C_9           21             1                 4           148\n",
       "9     C_10           16             2                 4           198"
      ]
     },
     "execution_count": 54,
     "metadata": {},
     "output_type": "execute_result"
    }
   ],
   "source": [
    "data = pd.read_excel(\"../questions/lab_2_data.xlsx\", sheet_name=0)\n",
    "data = data.dropna(axis = 1) # dropping all the columsn with NaN\n",
    "data"
   ]
  },
  {
   "cell_type": "code",
   "execution_count": 56,
   "id": "d5680320-064c-410b-8cc2-e19d098c5390",
   "metadata": {},
   "outputs": [],
   "source": [
    "A = data.iloc[:, 1:-1].values # A = all the columns except first and last one\n",
    "C = data.iloc[:,-1].values.reshape(-1,1) # taking only the last column\n",
    "\n",
    "dimensionality = A.shape[1]\n",
    "num_of_vectors = A.shape[0]\n",
    "rank_A = np.linalg.matrix_rank(A)\n",
    "cost_of_each = np.linalg.pinv(A) @ C"
   ]
  },
  {
   "cell_type": "code",
   "execution_count": 67,
   "id": "d7e4b364-7991-47aa-a261-a41d253de1c0",
   "metadata": {},
   "outputs": [
    {
     "name": "stdout",
     "output_type": "stream",
     "text": [
      "Dimensionality :  3 \n",
      " Number of Vectors :  10 \n",
      " Matrix Rank :  3 \n",
      " Cost of Candy :  1.0000000000000027 \n",
      " Cost of Mango :  55.0 \n",
      " Cost of Milk :  17.99999999999999 \n",
      "\n"
     ]
    }
   ],
   "source": [
    "print(\"Dimensionality : \", dimensionality, \"\\n\",\n",
    "        \"Number of Vectors : \", num_of_vectors, \"\\n\",\n",
    "        \"Matrix Rank : \", rank_A, \"\\n\",\n",
    "        \"Cost of Candy : \", cost_of_each[0].item(), \"\\n\",\n",
    "        \"Cost of Mango : \", cost_of_each[1].item(), \"\\n\",\n",
    "        \"Cost of Milk : \", cost_of_each[2].item(), \"\\n\",\n",
    "     )"
   ]
  },
  {
   "cell_type": "code",
   "execution_count": 66,
   "id": "5af556e9-f11e-44d4-8321-139687a03dde",
   "metadata": {},
   "outputs": [
    {
     "data": {
      "text/plain": [
       "numpy.ndarray"
      ]
     },
     "execution_count": 66,
     "metadata": {},
     "output_type": "execute_result"
    }
   ],
   "source": [
    "type(cost_of_each)"
   ]
  }
 ],
 "metadata": {
  "kernelspec": {
   "display_name": "Python 3 (ipykernel)",
   "language": "python",
   "name": "python3"
  },
  "language_info": {
   "codemirror_mode": {
    "name": "ipython",
    "version": 3
   },
   "file_extension": ".py",
   "mimetype": "text/x-python",
   "name": "python",
   "nbconvert_exporter": "python",
   "pygments_lexer": "ipython3",
   "version": "3.12.4"
  }
 },
 "nbformat": 4,
 "nbformat_minor": 5
}
