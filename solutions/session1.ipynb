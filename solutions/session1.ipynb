{
 "cells": [
  {
   "cell_type": "markdown",
   "id": "e4d2441b-d1db-46e1-a765-0955cf4433dd",
   "metadata": {},
   "source": [
    "# **Machine Leaning**\n",
    "## *Lab Session 1*\n",
    "### SET A "
   ]
  },
  {
   "cell_type": "code",
   "execution_count": 1,
   "id": "6424b391-1049-4695-95de-90962bbf4ebe",
   "metadata": {},
   "outputs": [],
   "source": [
    "from itertools import combinations\n",
    "import numpy as np"
   ]
  },
  {
   "cell_type": "markdown",
   "id": "85908122-d4b2-431d-bf60-6b6135b31ffb",
   "metadata": {},
   "source": [
    "### Functions"
   ]
  },
  {
   "cell_type": "code",
   "execution_count": 2,
   "id": "bb3cf2c1-69ab-4800-900b-6533784fd9e4",
   "metadata": {},
   "outputs": [],
   "source": [
    "# Question 2\n",
    "def get_range(list_of_nums:list):\n",
    "    if len(list_of_nums) <= 3:\n",
    "        return \"Range Determination Not possible\"\n",
    "    list_of_nums.sort()\n",
    "    return (list_of_nums[-1] - list_of_nums[0])\n",
    "    \n",
    "# Question 3\n",
    "def mat_pow(A,m):\n",
    "    return np.linalg.matrix_power(A,m)"
   ]
  },
  {
   "cell_type": "markdown",
   "id": "b95210c8-c6d0-404d-8b40-2f21740be3b7",
   "metadata": {},
   "source": [
    "#### **Q1.** Consider the given list as [2, 7, 4, 1, 3, 6]. Write a program to count pairs of elements with sum equal to 10."
   ]
  },
  {
   "cell_type": "code",
   "execution_count": 3,
   "id": "8a3e1bda-153f-41cf-9475-a8ac65eaa08e",
   "metadata": {},
   "outputs": [
    {
     "data": {
      "text/plain": [
       "[(7, 3), (4, 6)]"
      ]
     },
     "execution_count": 3,
     "metadata": {},
     "output_type": "execute_result"
    }
   ],
   "source": [
    "list1 = [2,7,4,1,3,6]\n",
    "# get all the combintaions\n",
    "pairs = list(combinations(list1,2))\n",
    "# filter the list to obtain the paris with sum 10\n",
    "pairs_with_sum_10 = list(filter(lambda item: item[0]+item[1]==10, pairs))\n",
    "pairs_with_sum_10"
   ]
  },
  {
   "cell_type": "markdown",
   "id": "d6d818e9-ad48-481f-94db-5957987cd29c",
   "metadata": {},
   "source": [
    "#### **Q2.** Write a program that takes a list of real numbers as input and returns the range (difference between minimum and maximum) of the list. Check for list being less than 3 elements in which case return an error message (Ex: “Range determination not possible”). Given a list [5,3,8,1,0,4], the range is 8 (8-0)."
   ]
  },
  {
   "cell_type": "code",
   "execution_count": 4,
   "id": "68dc3cfe-229b-46f8-aa1b-822fea5caa5c",
   "metadata": {},
   "outputs": [
    {
     "name": "stdin",
     "output_type": "stream",
     "text": [
      "Enter a list of nums:  1 2 3 4 5 6 7 8\n"
     ]
    },
    {
     "name": "stdout",
     "output_type": "stream",
     "text": [
      "7\n"
     ]
    }
   ],
   "source": [
    "list2 = list(map(int, input(\"Enter a list of nums: \").split()))\n",
    "print(get_range(list2))"
   ]
  },
  {
   "cell_type": "markdown",
   "id": "c358a240-e2f4-45e4-84a8-d43c7c29f82e",
   "metadata": {},
   "source": [
    "#### **Q3.** Write a program that accepts a square matrix A and a positive integer m as arguments and returns A<sup>m</sup>"
   ]
  },
  {
   "cell_type": "code",
   "execution_count": 6,
   "id": "0a084880-f240-46ef-88de-b6ffe59a3a35",
   "metadata": {},
   "outputs": [
    {
     "name": "stdin",
     "output_type": "stream",
     "text": [
      "Enter a matrix :  [[1,2,3],[4,5,6],[7,8,9]]\n",
      "Enter the power :  5\n"
     ]
    },
    {
     "name": "stdout",
     "output_type": "stream",
     "text": [
      "[[132476037840 162775103256 193074168672]\n",
      " [300005963406 368621393481 437236823556]\n",
      " [467535888972 574467683706 681399478440]]\n"
     ]
    }
   ],
   "source": [
    "A = np.array(eval(input(\"Enter a matrix : \")))\n",
    "m = int(input(\"Enter the power : \"))\n",
    "print(np.matrix(np.linalg.matrix_power(A,10)))"
   ]
  },
  {
   "cell_type": "markdown",
   "id": "3d2f60c4-025f-4963-9ae7-9fde2b7fbb11",
   "metadata": {},
   "source": [
    "####  **Q4.** Write a program to count the highest occurring character & its occurrence count in an input string. Consider only alphabets. Ex: for “hippopotamus” as input string, the maximally occurring character is ‘p’ & occurrence count is 3."
   ]
  },
  {
   "cell_type": "code",
   "execution_count": 7,
   "id": "81f44466-e74d-46f7-a8de-437b0e22456e",
   "metadata": {},
   "outputs": [
    {
     "name": "stdin",
     "output_type": "stream",
     "text": [
      "Enter a string:  hippopotamus\n"
     ]
    },
    {
     "name": "stdout",
     "output_type": "stream",
     "text": [
      "p  occured  3  times.\n"
     ]
    }
   ],
   "source": [
    "string = input(\"Enter a string: \")\n",
    "highest_occurance = \"\"\n",
    "highest_occurance_count = 0\n",
    "for character in set(string):\n",
    "    c = string.count(character)\n",
    "    if c > highest_occurance_count:\n",
    "        highest_occurance = character\n",
    "        highest_occurance_count = c\n",
    "print(highest_occurance, \" occured \", highest_occurance_count, \" times.\" )        "
   ]
  }
 ],
 "metadata": {
  "kernelspec": {
   "display_name": "Python 3 (ipykernel)",
   "language": "python",
   "name": "python3"
  },
  "language_info": {
   "codemirror_mode": {
    "name": "ipython",
    "version": 3
   },
   "file_extension": ".py",
   "mimetype": "text/x-python",
   "name": "python",
   "nbconvert_exporter": "python",
   "pygments_lexer": "ipython3",
   "version": "3.12.4"
  }
 },
 "nbformat": 4,
 "nbformat_minor": 5
}
